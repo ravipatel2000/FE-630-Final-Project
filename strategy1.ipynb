{
 "cells": [
  {
   "cell_type": "code",
   "execution_count": 1,
   "id": "539a5c86",
   "metadata": {},
   "outputs": [
    {
     "name": "stdout",
     "output_type": "stream",
     "text": [
      "(CVXPY) Dec 11 05:16:11 PM: Encountered unexpected exception importing solver CVXOPT:\n",
      "ImportError('Cannot find OpenBLAS')\n",
      "(CVXPY) Dec 11 05:16:11 PM: Encountered unexpected exception importing solver GLPK:\n",
      "ImportError('Cannot find OpenBLAS')\n",
      "(CVXPY) Dec 11 05:16:11 PM: Encountered unexpected exception importing solver GLPK_MI:\n",
      "ImportError('Cannot find OpenBLAS')\n"
     ]
    }
   ],
   "source": [
    "import os\n",
    "import numpy as np\n",
    "import cvxpy as cp\n",
    "import pandas as pd\n",
    "import matplotlib.pyplot as plt\n",
    "import yfinance as yf\n",
    "from sklearn.linear_model import LinearRegression\n",
    "from scipy.optimize import minimize"
   ]
  },
  {
   "cell_type": "code",
   "execution_count": 2,
   "id": "2c4a05fe",
   "metadata": {},
   "outputs": [],
   "source": [
    "def first_strategy(_rho, _sigma, _lambda, _beta):\n",
    "    omega = cp.Variable(n)\n",
    "    chol_dec = np.linalg.cholesky(_sigma)\n",
    "    obj = (_lambda * cp.norm(chol_dec@omega, 2)) - (_rho.T @ omega)\n",
    "    e = np.ones(n)\n",
    "    constr = [_beta @ omega.T <= 0.5,-1 * (_beta @ omega.T) <= 0.5,e @ omega.T == 1,omega <= [2 for i in range(n)],-1 * omega <= [2 for i in range(n)]]\n",
    "    prob = cp.Problem(cp.Minimize(obj), constr)\n",
    "    result = prob.solve(verbose=True)\n",
    "    return omega.value"
   ]
  },
  {
   "cell_type": "code",
   "execution_count": null,
   "id": "7105e383",
   "metadata": {},
   "outputs": [],
   "source": []
  }
 ],
 "metadata": {
  "kernelspec": {
   "display_name": "Python 3 (ipykernel)",
   "language": "python",
   "name": "python3"
  },
  "language_info": {
   "codemirror_mode": {
    "name": "ipython",
    "version": 3
   },
   "file_extension": ".py",
   "mimetype": "text/x-python",
   "name": "python",
   "nbconvert_exporter": "python",
   "pygments_lexer": "ipython3",
   "version": "3.9.7"
  }
 },
 "nbformat": 4,
 "nbformat_minor": 5
}
