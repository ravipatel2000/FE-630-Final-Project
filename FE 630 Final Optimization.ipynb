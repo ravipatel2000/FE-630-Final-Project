{
 "cells": [
  {
   "cell_type": "code",
   "execution_count": 9,
   "metadata": {},
   "outputs": [],
   "source": [
    "import pyreadr\n",
    "import math\n",
    "import numpy as np\n",
    "import pandas as pd\n",
    "from scipy.optimize import minimize\n",
    "from sklearn.linear_model import LinearRegression\n",
    "import datetime"
   ]
  },
  {
   "cell_type": "code",
   "execution_count": 2,
   "metadata": {},
   "outputs": [
    {
     "name": "stdout",
     "output_type": "stream",
     "text": [
      "        Date       FXE       EWJ       GLD       QQQ       SPY       SHV  \\\n",
      "0 2007-03-01 -0.839828 -1.195132 -2.501816 -1.163088 -0.751041 -0.006970   \n",
      "1 2007-03-02  0.171981 -4.117049 -8.078399 -3.797862 -3.299941  0.138968   \n",
      "2 2007-03-05 -1.909022 -3.662292 -3.085226 -1.957486 -2.398792 -0.046303   \n",
      "3 2007-03-06  0.673292  6.016801  4.885436  4.184908  4.311590  0.023115   \n",
      "4 2007-03-07  1.112738 -0.518451  0.589248 -0.999778 -0.252521  0.092518   \n",
      "\n",
      "        DBA       USO       XBI        ILF        EPP       FEZ  Mkt.RF   SMB  \\\n",
      "0 -3.359973  0.295435 -4.080605  -2.704520  -4.252163 -3.696786   -0.25 -0.11   \n",
      "1 -2.364891 -1.131163 -6.168434  -5.192701  -2.743254 -3.324511   -1.24 -0.64   \n",
      "2 -0.477437 -6.866887 -2.234872  -5.769796  -7.753573 -4.524134   -1.11 -0.69   \n",
      "3 -1.339417  3.555023  3.079937  12.416449  10.339075  7.155172    1.58  0.65   \n",
      "4  2.308413  4.857716 -0.978065  -2.114237  -0.862710 -0.476527   -0.21 -0.09   \n",
      "\n",
      "    HML     RF  \n",
      "0  0.15  0.019  \n",
      "1  0.26  0.019  \n",
      "2 -0.31  0.019  \n",
      "3 -0.02  0.019  \n",
      "4  0.08  0.019  \n"
     ]
    }
   ],
   "source": [
    "# Read csv of ETF log return and Fama French Data\n",
    "etf_ff_data = pd.read_csv('/Users/Ravi/Desktop/FE 630/FE-630-Final-Project/ETF_ff_Data.csv')\n",
    "# Format Date column properly\n",
    "etf_ff_data = etf_ff_data.rename(columns = {\"Unnamed: 0\":\"Date\"})\n",
    "etf_ff_data[\"Date\"] = pd.to_datetime(etf_ff_data[\"Date\"])\n",
    "\n",
    "# Print first 5 rows\n",
    "print(etf_ff_data.head())"
   ]
  },
  {
   "cell_type": "code",
   "execution_count": 3,
   "metadata": {},
   "outputs": [],
   "source": [
    "def calculate_params(etf_ff_data = etf_ff_data, start = '2007-03-01', end = '2022-10-31'):\n",
    "    # Subsetting data into start and end timeframe\n",
    "    etf_ff_data = etf_ff_data[(etf_ff_data['Date'] >= start) & (etf_ff_data['Date'] <= end)]\n",
    "    # Calculating Mkt from Fama French Factors\n",
    "    mkt = etf_ff_data['Mkt.RF'] + etf_ff_data['RF']\n",
    "    # Splitting df into ETF and Fama French datasets\n",
    "    ff_data = etf_ff_data[[\"Mkt.RF\", \"SMB\", \"HML\", \"RF\"]]\n",
    "    ETF_data = etf_ff_data[['FXE', 'EWJ', 'GLD', 'QQQ', 'SPY', 'SHV', 'DBA', 'USO', 'XBI', 'ILF', 'EPP', 'FEZ']]\n",
    "\n",
    "    # Regressing ETFs onto Fama French Factors\n",
    "    reg_info = pd.DataFrame() # Data frame of coefficients returned by regressions\n",
    "    ff_returns = pd.DataFrame() # Time series of returns based off of Fama French coefficients\n",
    "    for i in ETF_data.columns:\n",
    "        regression = LinearRegression()\n",
    "        regression.fit(ff_data[[\"Mkt.RF\", \"SMB\", \"HML\"]], ETF_data[i])\n",
    "        coefficients = regression.coef_\n",
    "        intercept = regression.intercept_\n",
    "        ff_returns[i] = intercept + coefficients[0]*ff_data['Mkt.RF'] + coefficients[1]*ff_data['SMB'] + coefficients[2]*ff_data['HML'] + ff_data['RF']\n",
    "        reg_info[i] = [intercept, coefficients[0], coefficients[1], coefficients[2]]\n",
    "    reg_info = reg_info.T\n",
    "\n",
    "    # Expected Returns (Rho)\n",
    "    rho = ff_returns.mean() # ColMeans of ff_returns data frame\n",
    "\n",
    "    # Covariance (Sigma)\n",
    "    cov_returns = ff_returns.cov() # Calculated as cov of Fama French Returns dataframe\n",
    "    #cov_ff = np.dot(np.dot(reg_info.iloc[:, 1:4], ff_data.iloc[:, 0:3].cov()), reg_info.iloc[:, 1:4].T) # Calculated as coefficients * cov of Fama French factors * t(coefficients)\n",
    "\n",
    "    # Beta\n",
    "    #beta_rm = (pd.concat([ETF_data, mkt], axis = 1).cov().iloc[:, 12]/mkt.var()).iloc[0:12] # Beta calculated with RM (Fama-French Factors) as benchmark\n",
    "    beta_spy = (pd.concat([ETF_data, ETF_data['SPY']], axis = 1).cov().iloc[:, 12]/ETF_data['SPY'].var()).iloc[0:12] # Beta calculated w/ SPY as benchmark\n",
    "\n",
    "    # Return Expected Returns (rho), Covariance (sigma), beta, and returns based off of Fama-French coefficients (for calculation of FEV)\n",
    "    return(rho, cov_returns, beta_spy, ff_returns)\n"
   ]
  },
  {
   "cell_type": "code",
   "execution_count": 10,
   "metadata": {},
   "outputs": [
    {
     "name": "stdout",
     "output_type": "stream",
     "text": [
      "[-1.10821004 -2.          1.99999813  2.          2.00001928  2.00028133\n",
      " -2.01839291 -2.01840492 -0.09885313  0.26183758  1.99999167 -2.01826699]\n",
      "0.8226782562736246\n",
      "5.656243366031468\n",
      "0.16869114451186062\n"
     ]
    }
   ],
   "source": [
    "def find_optimal_strategy_1(rho, sigma, beta, _lambda):\n",
    "    w = np.asarray([1/12, 1/12, 1/12, 1/12, 1/12, 1/12, 1/12, 1/12, 1/12, 1/12, 1/12, 1/12])\n",
    "    def strategy_1(w):\n",
    "        return(-1 * float(rho.T @ w - _lambda * math.sqrt(w.T @ sigma @ w)))\n",
    "    constraints_1 = ({\"type\": \"eq\", \"fun\": lambda w: 1-sum(w)},\n",
    "                {\"type\": \"ineq\", \"fun\": lambda w: beta.T@w+0.5},\n",
    "                {\"type\": \"ineq\", \"fun\": lambda w: -beta.T@w+0.5},\n",
    "                {\"type\": \"ineq\", \"fun\": lambda w: 2+min(w)},\n",
    "                {\"type\": \"ineq\", \"fun\": lambda w: 2-max(w)})\n",
    "    minim = minimize(strategy_1, w, constraints = constraints_1)\n",
    "    return(minim.x)\n",
    "\n",
    "rho, sigma, beta, hist_returns = calculate_params(start = '2007-01-01', end = '2020-01-01')\n",
    "_lambda = 0.1\n",
    "optimal_strat1 = find_optimal_strategy_1(rho, sigma, beta, _lambda)\n",
    "\n",
    "# Optimal Weights\n",
    "print(optimal_strat1)\n",
    "\n",
    "# Return of Optimal Weights\n",
    "print(float(rho.T @ optimal_strat1))\n",
    "\n",
    "# Variance of Optimal Weights\n",
    "print(float(optimal_strat1.T @ sigma @ optimal_strat1))\n",
    "\n",
    "# Beta of Optimal Weights\n",
    "print(np.dot(beta, optimal_strat1))"
   ]
  },
  {
   "cell_type": "code",
   "execution_count": 6,
   "metadata": {},
   "outputs": [
    {
     "name": "stdout",
     "output_type": "stream",
     "text": [
      "[-1.99893256  1.99104693  1.99100489  1.9967315   2.          1.9819086\n",
      " -1.99965551 -2.          0.11248255  0.9234281  -1.99988209 -1.99813242]\n",
      "1.0991413797834153\n",
      "35.6028817762554\n",
      "1.3125178655207848\n"
     ]
    }
   ],
   "source": [
    "def find_optimal_strategy_2(rho, sigma, beta, _lambda):\n",
    "    w = np.asarray([1/12, 1/12, 1/12, 1/12, 1/12, 1/12, 1/12, 1/12, 1/12, 1/12, 1/12, 1/12])\n",
    "    TEV = np.sqrt(w.T @ sigma @ w - 2 * w.T @ hist_returns.cov()['SPY'] + hist_returns['SPY'].var())\n",
    "    def strategy_2(w):\n",
    "        return(-1 * float((rho.T @ w)/TEV - _lambda * math.sqrt(w.T @ sigma @ w)))\n",
    "    constraints_2 = ({\"type\": \"eq\", \"fun\": lambda w: 1-sum(w)},\n",
    "                {\"type\": \"ineq\", \"fun\": lambda w: beta.T@w+1},\n",
    "                {\"type\": \"ineq\", \"fun\": lambda w: -beta.T@w+2},\n",
    "                {\"type\": \"ineq\", \"fun\": lambda w: 2+min(w)},\n",
    "                {\"type\": \"ineq\", \"fun\": lambda w: -1*max(w)+2})\n",
    "    minim = minimize(strategy_2, w, constraints = constraints_2)\n",
    "    return(minim.x)\n",
    "\n",
    "rho, sigma, beta, hist_returns = calculate_params(start = '2014-01-01', end = '2020-01-01')\n",
    "_lambda = 0.1\n",
    "optimal_strat2 = find_optimal_strategy_2(rho, sigma, beta, _lambda)\n",
    "\n",
    "# Optimal Weights\n",
    "print(optimal_strat2)\n",
    "\n",
    "# Return of Optimal Weights\n",
    "print(float(rho.T @ optimal_strat2))\n",
    "\n",
    "# Variance of Optimal Weights\n",
    "print(float(optimal_strat2.T @ sigma @ optimal_strat2))\n",
    "\n",
    "# Beta of Optimal Weights\n",
    "print(np.dot(beta, optimal_strat2))"
   ]
  },
  {
   "cell_type": "code",
   "execution_count": null,
   "metadata": {},
   "outputs": [],
   "source": [
    "# Showing sensitivity to lambda\n"
   ]
  }
 ],
 "metadata": {
  "kernelspec": {
   "display_name": "base",
   "language": "python",
   "name": "python3"
  },
  "language_info": {
   "codemirror_mode": {
    "name": "ipython",
    "version": 3
   },
   "file_extension": ".py",
   "mimetype": "text/x-python",
   "name": "python",
   "nbconvert_exporter": "python",
   "pygments_lexer": "ipython3",
   "version": "3.8.3"
  },
  "orig_nbformat": 4,
  "vscode": {
   "interpreter": {
    "hash": "c7410a2e2d541115243e2dfa956fa9b4b5be0c7a6f1864a27882b89692d18bbb"
   }
  }
 },
 "nbformat": 4,
 "nbformat_minor": 2
}
