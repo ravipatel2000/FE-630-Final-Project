{
 "cells": [
  {
   "cell_type": "code",
   "execution_count": 27,
   "metadata": {},
   "outputs": [],
   "source": [
    "import pyreadr\n",
    "import math\n",
    "import numpy as np\n",
    "from scipy.optimize import minimize"
   ]
  },
  {
   "cell_type": "code",
   "execution_count": 88,
   "metadata": {},
   "outputs": [
    {
     "name": "stdout",
     "output_type": "stream",
     "text": [
      "[-2.00016375 -1.99949428  1.99984351  0.59731148  1.9999255   2.\n",
      "  0.02055636 -1.99973881 -0.21567121  1.99861974  0.59897383 -2.00016235]\n",
      "0.5777405879492608\n",
      "4.101019195232277\n"
     ]
    }
   ],
   "source": [
    "def find_optimal_strategy_1(rho, sigma, beta, _lambda):\n",
    "    w = np.asarray([1/12, 1/12, 1/12, 1/12, 1/12, 1/12, 1/12, 1/12, 1/12, 1/12, 1/12, 1/12])\n",
    "    def strategy_1(w):\n",
    "        return(-1 * float(rho.T @ w - _lambda * math.sqrt(w.T @ sigma @ w)))\n",
    "    constraints = ({\"type\": \"eq\", \"fun\": lambda w: 1-sum(w)},\n",
    "                {\"type\": \"ineq\", \"fun\": lambda w: beta.T@w+0.5},\n",
    "                {\"type\": \"ineq\", \"fun\": lambda w: -beta.T@w+0.5},\n",
    "                {\"type\": \"ineq\", \"fun\": lambda w: 2+min(w)},\n",
    "                {\"type\": \"ineq\", \"fun\": lambda w: 2-max(w)})\n",
    "    minim = minimize(strategy_1, w, constraints = constraints)\n",
    "    return(minim.x)\n",
    "\n",
    "result = pyreadr.read_r('/Users/Ravi/Desktop/FE 630/FE-630-Final-Project/strategy_params.RData')\n",
    "rho = np.asarray(result['Expected_Return'])\n",
    "sigma = np.asarray(result['Covariance_Matrix'])\n",
    "beta = np.asarray(result['Beta'])\n",
    "_lambda = 0.1\n",
    "optimal_strat1 = find_optimal_strategy_1(rho, sigma, beta, _lambda)\n",
    "\n",
    "# Optimal Weights\n",
    "print(optimal_strat1)\n",
    "\n",
    "# Return of Optimal Weights\n",
    "print(float(rho.T @ optimal_strat1))\n",
    "\n",
    "# Variance of Optimal Weights\n",
    "print(float(optimal_strat1.T @ sigma @ optimal_strat1))"
   ]
  }
 ],
 "metadata": {
  "language_info": {
   "name": "python"
  },
  "orig_nbformat": 4
 },
 "nbformat": 4,
 "nbformat_minor": 2
}
